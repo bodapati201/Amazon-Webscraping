{
 "cells": [
  {
   "cell_type": "code",
   "execution_count": 1,
   "metadata": {},
   "outputs": [],
   "source": [
    "from autoscraper import AutoScraper"
   ]
  },
  {
   "cell_type": "code",
   "execution_count": 2,
   "metadata": {},
   "outputs": [],
   "source": [
    "amazon_url=\"https://www.amazon.com/s?k=irobot&crid=3U85XLT84WQR3&sprefix=irobot%2Caps%2C109&ref=nb_sb_noss\"\n",
    "\n",
    "wanted_list=[\"$249.00\",\"iRobot Roomba 694 Robot Vacuum-Wi-Fi Connectivity, Good for Pet Hair, Carpets, Hard Floors, Self-Charging\"]"
   ]
  },
  {
   "cell_type": "code",
   "execution_count": 7,
   "metadata": {},
   "outputs": [
    {
     "name": "stdout",
     "output_type": "stream",
     "text": [
      "['$249.00', '$274.00', '$1,349.99', '$1,599.99', '$849.00', '$549.00', '$599.99', '$349.00', '$399.99', '$1,099.00', '$549.99', '$299.99', '$899.00', '$999.99', '$1,599.00', '$1,299.99', '$498.99', '$399.00', '$449.99', '$558.99', '$604.99', '$649.99', '$699.99', 'iRobot Roomba 694 Robot Vacuum-Wi-Fi Connectivity, Good for Pet Hair, Carpets, Hard Floors, Self-Charging', 'iRobot Roomba s9+ (9550) Robot Vacuum & Braava Jet m6 (6112) Robot Mop Bundle - Wi-Fi Connected, Smart Mapping, Powerful Suction, Precision Jet Spray, Corners & Edges, Ideal for Multiple Rooms', 'iRobot Roomba j7+ (7550) Self-Emptying Robot Vacuum – Identifies and avoids obstacles like pet waste & cords, Empties itself for 60 days, Smart Mapping, Works with Alexa, Ideal for Pet Hair', 'iRobot Roomba i3+ (3550) Robot Vacuum with Automatic Dirt Disposal Disposal - Empties Itself for up to 60 days, Wi-Fi Connected Mapping, Works with Alexa, Ideal for Pet Hair, Carpets', 'iRobot Roomba i3 (3150) Wi-Fi Connected Robot Vacuum Vacuum - Wi-Fi Connected Mapping, Works with Alexa, Ideal for Pet Hair, Carpets', 'iRobot Roomba s9+ (s955020) Robot Vacuum Bundle with Automatic Dirt Disposal- Wi-Fi Connected, Smart Mapping, Ideal for Pet Hair (+1 Extra Edge-Sweeping Brush, 1 Extra Filter)', 'iRobot Roomba i7+ (7550) Robot Vacuum with Automatic Dirt Disposal-Empties Itself, Wi-Fi Connected, Smart Mapping, Compatible with Alexa, Ideal for Pet Hair, Carpets, Hard Floors, Black (Renewed)', 'iRobot Roomba E5 (5150) Robot Vacuum - Wi-Fi Connected, Works with Alexa, Ideal for Pet Hair, Carpets, Hard, Self-Charging Robotic Vacuum, Black', 'iRobot Roomba S9 (9150) Robot Vacuum- Wi-Fi Connected, Smart Mapping, Powerful Suction, Works with Alexa, Ideal for Pet Hair, Works With Clean Base', 'iRobot Roomba s9+ 9550 Wi-Fi Connected Robot Vacuum with Automatic Dirt Disposal and Braava Jet m6 Robot Mop Bundle (2 Items)', 'iRobot Roomba s9+ (9550) Robot Vacuum with Automatic Dirt Disposal-Empties Itself for up to 60 Days, Wi-Fi Connected, Smart Mapping, Powerful Suction, Corners & Edges, Ideal for Pet Hair, Black', 'iRobot Braava jet m6 (6012) Ultimate Robot Mop- Wi-Fi Connected, Precision Jet Spray, Smart Mapping, Compatible with Alexa, Ideal for Multiple Rooms, Recharges and Resumes', 'iRobot Braava Jet M6 (6110) Ultimate Robot Mop- Wi-Fi Connected, Precision Jet Spray, Smart Mapping, Works with Alexa, Ideal for Multiple Rooms, Recharges and Resumes', 'iRobot Roomba i3+ (3550) Robot Vacuum with Automatic Dirt Disposal Disposal - Empties Itself, Wi-Fi Connected Mapping, Compatible with Alexa, Ideal for Pet Hair, Carpets (+2 Dirt Disposal Bags)', 'iRobot Roomba i4+ (4552) Robot Vacuum with Automatic Dirt Disposal - Empties Itself for up to 60 Days, Wi-Fi Connected Mapping, Compatible with Alexa, Ideal for Pet Hair, Carpets', 'iRobot Roomba i7 (7150) Robot Vacuum- Wi-Fi Connected, Smart Mapping, Works with Alexa, Ideal for Pet Hair, Works With Clean Base, Black', 'iRobot Roomba s9+ (9550) Robot Vacuum & Braava Jet m6 (6112) Robot Mop Bundle - Wi-Fi Connected, Smart Mapping, Powerful S...', 'iRobot Roomba j7+ (7550) Self-Emptying Robot Vacuum – Identifies and avoids obstacles like pet waste & cords, Empties itse...', 'iRobot Roomba i3+ (3550) Robot Vacuum with Automatic Dirt Disposal Disposal - Empties Itself for up to 60 days, Wi-Fi Conn...', 'iRobot Roomba i3 (3150) Wi-Fi Connected Robot Vacuum Vacuum - Wi-Fi Connected Mapping, Works with Alexa, Ideal for Pet Hai...', 'iRobot Roomba s9+ (s955020) Robot Vacuum Bundle with Automatic Dirt Disposal- Wi-Fi Connected, Smart Mapping, Ideal for Pe...', 'iRobot Roomba i7+ (7550) Robot Vacuum with Automatic Dirt Disposal-Empties Itself, Wi-Fi Connected, Smart Mapping, Compati...', 'iRobot Roomba E5 (5150) Robot Vacuum - Wi-Fi Connected, Works with Alexa, Ideal for Pet Hair, Carpets, Hard, Self-Charging...', 'iRobot Roomba S9 (9150) Robot Vacuum- Wi-Fi Connected, Smart Mapping, Powerful Suction, Works with Alexa, Ideal for Pet Ha...', 'iRobot Roomba s9+ (9550) Robot Vacuum with Automatic Dirt Disposal-Empties Itself for up to 60 Days, Wi-Fi Connected, Smar...', 'iRobot Braava jet m6 (6012) Ultimate Robot Mop- Wi-Fi Connected, Precision Jet Spray, Smart Mapping, Compatible with Alex...', 'iRobot Braava Jet M6 (6110) Ultimate Robot Mop- Wi-Fi Connected, Precision Jet Spray, Smart Mapping, Works with Alexa, Ide...', 'iRobot Roomba i3+ (3550) Robot Vacuum with Automatic Dirt Disposal Disposal - Empties Itself, Wi-Fi Connected Mapping, Com...', 'iRobot Roomba i4+ (4552) Robot Vacuum with Automatic Dirt Disposal - Empties Itself for up to 60 Days, Wi-Fi Connected Map...', 'iRobot Roomba i7 (7150) Robot Vacuum- Wi-Fi Connected, Smart Mapping, Works with Alexa, Ideal for Pet Hair, Works With Cle...']\n"
     ]
    }
   ],
   "source": [
    "scraper=AutoScraper()\n",
    "result=scraper.build(amazon_url,wanted_list)\n",
    "print(result)"
   ]
  },
  {
   "cell_type": "code",
   "execution_count": 9,
   "metadata": {},
   "outputs": [
    {
     "data": {
      "text/plain": [
       "{'rule_mv3w': ['$849.00',\n",
       "  '$249.00',\n",
       "  '$274.00',\n",
       "  '$1,349.99',\n",
       "  '$1,599.99',\n",
       "  '$549.00',\n",
       "  '$599.99',\n",
       "  '$349.00',\n",
       "  '$399.99',\n",
       "  '$1,099.00',\n",
       "  '$549.99',\n",
       "  '$299.99',\n",
       "  '$558.99',\n",
       "  '$1,099.00',\n",
       "  '$1,299.99',\n",
       "  '$899.00',\n",
       "  '$999.99',\n",
       "  '$1,599.00',\n",
       "  '$604.99',\n",
       "  '$649.99',\n",
       "  '$549.00',\n",
       "  '$699.99',\n",
       "  '$479.00',\n",
       "  '$498.99'],\n",
       " 'rule_v4yb': ['$849.00',\n",
       "  '$249.00',\n",
       "  '$274.00',\n",
       "  '$1,349.99',\n",
       "  '$1,599.99',\n",
       "  '$549.00',\n",
       "  '$599.99',\n",
       "  '$349.00',\n",
       "  '$399.99',\n",
       "  '$1,099.00',\n",
       "  '$549.99',\n",
       "  '$299.99',\n",
       "  '$558.99',\n",
       "  '$1,099.00',\n",
       "  '$1,299.99',\n",
       "  '$899.00',\n",
       "  '$999.99',\n",
       "  '$1,599.00',\n",
       "  '$604.99',\n",
       "  '$649.99',\n",
       "  '$549.00',\n",
       "  '$699.99',\n",
       "  '$479.00',\n",
       "  '$498.99'],\n",
       " 'rule_cxah': ['iRobot Roomba j7+ (7550) Self-Emptying Robot Vacuum – Identifies and avoids obstacles like pet waste & cords, Empties itself for 60 days, Smart Mapping, Works with Alexa, Ideal for Pet Hair',\n",
       "  'iRobot Roomba 694 Robot Vacuum-Wi-Fi Connectivity, Good for Pet Hair, Carpets, Hard Floors, Self-Charging',\n",
       "  'iRobot Roomba s9+ (9550) Robot Vacuum & Braava Jet m6 (6112) Robot Mop Bundle - Wi-Fi Connected, Smart Mapping, Powerful Suction, Precision Jet Spray, Corners & Edges, Ideal for Multiple Rooms',\n",
       "  'iRobot Roomba i3+ (3550) Robot Vacuum with Automatic Dirt Disposal Disposal - Empties Itself for up to 60 days, Wi-Fi Connected Mapping, Works with Alexa, Ideal for Pet Hair, Carpets',\n",
       "  'iRobot Roomba i3 (3150) Wi-Fi Connected Robot Vacuum Vacuum - Wi-Fi Connected Mapping, Works with Alexa, Ideal for Pet Hair, Carpets',\n",
       "  'iRobot Roomba s9+ (s955020) Robot Vacuum Bundle with Automatic Dirt Disposal- Wi-Fi Connected, Smart Mapping, Ideal for Pet Hair (+1 Extra Edge-Sweeping Brush, 1 Extra Filter)',\n",
       "  'iRobot Roomba i7+ (7550) Robot Vacuum with Automatic Dirt Disposal-Empties Itself, Wi-Fi Connected, Smart Mapping, Compatible with Alexa, Ideal for Pet Hair, Carpets, Hard Floors, Black (Renewed)',\n",
       "  'iRobot Roomba E5 (5150) Robot Vacuum - Wi-Fi Connected, Works with Alexa, Ideal for Pet Hair, Carpets, Hard, Self-Charging Robotic Vacuum, Black',\n",
       "  'iRobot Roomba i3+ (3550) Robot Vacuum with Automatic Dirt Disposal Disposal - Empties Itself, Wi-Fi Connected Mapping, Compatible with Alexa, Ideal for Pet Hair, Carpets (+2 Dirt Disposal Bags)',\n",
       "  'iRobot Roomba s9+ (9550) Robot Vacuum with Automatic Dirt Disposal-Empties Itself for up to 60 Days, Wi-Fi Connected, Smart Mapping, Powerful Suction, Corners & Edges, Ideal for Pet Hair, Black',\n",
       "  'iRobot Roomba S9 (9150) Robot Vacuum- Wi-Fi Connected, Smart Mapping, Powerful Suction, Works with Alexa, Ideal for Pet Hair, Works With Clean Base',\n",
       "  'iRobot Roomba s9+ 9550 Wi-Fi Connected Robot Vacuum with Automatic Dirt Disposal and Braava Jet m6 Robot Mop Bundle (2 Items)',\n",
       "  'iRobot Roomba i4+ (4552) Robot Vacuum with Automatic Dirt Disposal - Empties Itself for up to 60 Days, Wi-Fi Connected Mapping, Compatible with Alexa, Ideal for Pet Hair, Carpets',\n",
       "  'iRobot Roomba i7 (7150) Robot Vacuum- Wi-Fi Connected, Smart Mapping, Works with Alexa, Ideal for Pet Hair, Works With Clean Base, Black',\n",
       "  'iRobot Braava Jet m6 (6110) Ultimate Robot Mop- Wi-Fi Connected, Precision Jet Spray, Smart Mapping, Works with Alexa, Ideal for Multiple Rooms, Recharges and Resumes (+7 Extra Dry Sweeping Pads)',\n",
       "  'iRobot Braava jet m6 (6012) Ultimate Robot Mop- Wi-Fi Connected, Precision Jet Spray, Smart Mapping, Compatible with Alexa, Ideal for Multiple Rooms, Recharges and Resumes'],\n",
       " 'rule_5njh': ['iRobot Roomba j7+ (7550) Self-Emptying Robot Vacuum – Identifies and avoids obstacles like pet waste & cords, Empties itse...',\n",
       "  'iRobot Roomba 694 Robot Vacuum-Wi-Fi Connectivity, Good for Pet Hair, Carpets, Hard Floors, Self-Charging',\n",
       "  'iRobot Roomba s9+ (9550) Robot Vacuum & Braava Jet m6 (6112) Robot Mop Bundle - Wi-Fi Connected, Smart Mapping, Powerful S...',\n",
       "  'iRobot Roomba i3+ (3550) Robot Vacuum with Automatic Dirt Disposal Disposal - Empties Itself for up to 60 days, Wi-Fi Conn...',\n",
       "  'iRobot Roomba i3 (3150) Wi-Fi Connected Robot Vacuum Vacuum - Wi-Fi Connected Mapping, Works with Alexa, Ideal for Pet Hai...',\n",
       "  'iRobot Roomba s9+ (s955020) Robot Vacuum Bundle with Automatic Dirt Disposal- Wi-Fi Connected, Smart Mapping, Ideal for Pe...',\n",
       "  'iRobot Roomba i7+ (7550) Robot Vacuum with Automatic Dirt Disposal-Empties Itself, Wi-Fi Connected, Smart Mapping, Compati...',\n",
       "  'iRobot Roomba E5 (5150) Robot Vacuum - Wi-Fi Connected, Works with Alexa, Ideal for Pet Hair, Carpets, Hard, Self-Charging...',\n",
       "  'iRobot Roomba i3+ (3550) Robot Vacuum with Automatic Dirt Disposal Disposal - Empties Itself, Wi-Fi Connected Mapping, Com...',\n",
       "  'iRobot Roomba s9+ (9550) Robot Vacuum with Automatic Dirt Disposal-Empties Itself for up to 60 Days, Wi-Fi Connected, Smar...',\n",
       "  'iRobot Roomba S9 (9150) Robot Vacuum- Wi-Fi Connected, Smart Mapping, Powerful Suction, Works with Alexa, Ideal for Pet Ha...',\n",
       "  'iRobot Roomba s9+ 9550 Wi-Fi Connected Robot Vacuum with Automatic Dirt Disposal and Braava Jet m6 Robot Mop Bundle (2 Items)',\n",
       "  'iRobot Roomba i4+ (4552) Robot Vacuum with Automatic Dirt Disposal - Empties Itself for up to 60 Days, Wi-Fi Connected Map...',\n",
       "  'iRobot Roomba i7 (7150) Robot Vacuum- Wi-Fi Connected, Smart Mapping, Works with Alexa, Ideal for Pet Hair, Works With Cle...',\n",
       "  'iRobot Braava Jet m6 (6110) Ultimate Robot Mop- Wi-Fi Connected, Precision Jet Spray, Smart Mapping, Works with Alexa, Ide...',\n",
       "  'iRobot Braava jet m6 (6012) Ultimate Robot Mop- Wi-Fi Connected, Precision Jet Spray, Smart Mapping, Compatible with Alex...']}"
      ]
     },
     "execution_count": 9,
     "metadata": {},
     "output_type": "execute_result"
    }
   ],
   "source": [
    "scraper.get_result_similar(amazon_url,grouped=True)"
   ]
  },
  {
   "cell_type": "code",
   "execution_count": 10,
   "metadata": {},
   "outputs": [],
   "source": [
    "scraper.set_rule_aliases({'rule_cxah':'Title','rule_mv3w':'Price'})\n",
    "scraper.keep_rules(['rule_cxah','rule_mv3w'])\n",
    "scraper.save('amazon-search')"
   ]
  },
  {
   "cell_type": "code",
   "execution_count": 17,
   "metadata": {},
   "outputs": [],
   "source": [
    "results=scraper.get_result_similar('https://www.amazon.com/s?k=robot+vaccum&crid=3W21CP7SM6ZFM&sprefix=robot+vaccum%2Caps%2C120&ref=nb_sb_noss',group_by_alias=True)"
   ]
  },
  {
   "cell_type": "code",
   "execution_count": 19,
   "metadata": {},
   "outputs": [],
   "source": [
    "R=results['Title']+results['Price']"
   ]
  },
  {
   "cell_type": "code",
   "execution_count": 20,
   "metadata": {},
   "outputs": [
    {
     "data": {
      "text/plain": [
       "['Best Sellerin Commercial Indoor Robotic Vacuums',\n",
       " 'ILIFE V3s Pro Robot Vacuum Cleaner, Tangle-free Suction , Slim, Automatic Self-Charging Robotic Vacuum Cleaner, Daily Schedule Cleaning, Ideal For Pet Hair,Hard Floor and Low Pile Carpet',\n",
       " 'eufy by Anker, BoostIQ RoboVac 12, Robot Vacuum Cleaner, Upgraded, Super-Thin, 1500Pa Strong Suction, Quiet, Self-Charging Robotic Vacuum Cleaner, Cleans Hard Floors to Medium-Pile Carpets',\n",
       " 'eufy by Anker, BoostIQ RoboVac 11S (Slim), Robot Vacuum Cleaner, Super-Thin, 1300Pa Strong Suction, Quiet, Self-Charging Robotic Vacuum Cleaner, Cleans Hard Floors to Medium-Pile Carpets',\n",
       " 'eufy by Anker, BoostIQ RoboVac 15C MAX, Wi-Fi Connected Robot Vacuum Cleaner, Super-Thin, 2000Pa Suction, Quiet, Self-Charging Robotic Vacuum Cleaner, Cleans Hard Floors to Medium-Pile Carpets',\n",
       " 'Shark IQ Robot Vacuum AV1002AE with XL Self-Empty Base, Self-Cleaning Brushroll, Advanced Navigation, Wi-Fi, Compatible with Alexa, 2nd Generation',\n",
       " 'Shark ION Robot Vacuum AV753, Wi Fi Connected, 120min Runtime, Works with Alexa, Multi Surface Cleaning , Grey',\n",
       " 'iRobot Roomba 694 Robot Vacuum-Wi-Fi Connectivity, Good for Pet Hair, Carpets, Hard Floors, Self-Charging',\n",
       " 'Robot Vacuum, Deenkee 2.75\" Slim 1500PA Strong Suction Robotic Vacuums, Self-Charging Robot Vacuum Cleaner, 100 Mins Runtime 6 Cleaning Modes Quiet Auto Cleaning Robot for Pet Hair Carpet Hard Floor',\n",
       " 'HONITURE Q6pro Robot Vacuum Cleaner, Self Emptying Robot Vacuum and Mop Combo, 3000Pa Suction, LIDAR Navigation, Multi-Floor Mapping, Virtual Boundary, Ideal for Pet Hair and Hard Floor Carpet',\n",
       " 'Robot Vacuum Cleaner, Bagotte BG600 Super-Thin, 1500Pa Strong Suction, Quiet, Self-Charging Robotic Vacuum Cleaner, Cleans Pet Hairs, Hard Floors to Medium-Pile Carpets',\n",
       " 'VIOMI Robot Vacuum Cleaner, Lidar Robot Vacuum and Mop Smart Navigation 2700Pa 300 Min Runtime Self-Charging, Sweeping Robot Works with Alexa Google Assistant Ideal for Pet Hair, Carpets',\n",
       " 'iRobot Roomba s9+ (9550) Robot Vacuum & Braava Jet m6 (6112) Robot Mop Bundle - Wi-Fi Connected, Smart Mapping, Powerful Suction, Precision Jet Spray, Corners & Edges, Ideal for Multiple Rooms',\n",
       " 'AIRROBO T10+ Robot Vacuum and Mop with Auto Dirt Disposal, Lidar Navigation, Compatible with Alexa and Google Assistant, 250Min Runtime, Max 2700Pa Strong Suction for Pet Hair, Hard Floor, Carpet',\n",
       " 'Neabot Robot Vacuum with Self-Emptying Dustbin Included, 2700Pa Strong Suction, Laser Navigation, Smart Mapping with No-Go Zones, Deeper Carpet Cleaning',\n",
       " 'eufy by Anker, BoostIQ RoboVac 11S MAX, Robot Vacuum Cleaner, Super-Thin, 2000Pa Super-Strong Suction, Quiet, Self-Charging Robotic Vacuum Cleaner, Cleans Hard Floors to Medium-Pile Carpets, Black',\n",
       " '$119.99',\n",
       " '$159.99',\n",
       " '$139.99',\n",
       " '$239.99',\n",
       " '$199.99',\n",
       " '$229.99',\n",
       " '$175.99',\n",
       " '$279.99',\n",
       " '$549.99',\n",
       " '$229.99',\n",
       " '$249.00',\n",
       " '$274.00',\n",
       " '$139.98',\n",
       " '$169.99',\n",
       " '$549.99',\n",
       " '$139.95',\n",
       " '$164.99',\n",
       " '$399.99',\n",
       " '$499.00',\n",
       " '$1,349.99',\n",
       " '$1,599.99',\n",
       " '$499.99',\n",
       " '$399.99',\n",
       " '$249.99']"
      ]
     },
     "execution_count": 20,
     "metadata": {},
     "output_type": "execute_result"
    }
   ],
   "source": [
    "R"
   ]
  },
  {
   "cell_type": "code",
   "execution_count": null,
   "metadata": {},
   "outputs": [],
   "source": []
  },
  {
   "cell_type": "code",
   "execution_count": null,
   "metadata": {},
   "outputs": [],
   "source": []
  },
  {
   "cell_type": "code",
   "execution_count": null,
   "metadata": {},
   "outputs": [],
   "source": []
  },
  {
   "cell_type": "code",
   "execution_count": null,
   "metadata": {},
   "outputs": [],
   "source": []
  }
 ],
 "metadata": {
  "kernelspec": {
   "display_name": "Python 3",
   "language": "python",
   "name": "python3"
  },
  "language_info": {
   "codemirror_mode": {
    "name": "ipython",
    "version": 3
   },
   "file_extension": ".py",
   "mimetype": "text/x-python",
   "name": "python",
   "nbconvert_exporter": "python",
   "pygments_lexer": "ipython3",
   "version": "3.8.5"
  }
 },
 "nbformat": 4,
 "nbformat_minor": 4
}
